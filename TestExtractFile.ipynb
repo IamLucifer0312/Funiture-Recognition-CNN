{
  "nbformat": 4,
  "nbformat_minor": 0,
  "metadata": {
    "colab": {
      "provenance": [],
      "authorship_tag": "ABX9TyNhJgjgz9+KrJQVl7wQaknr",
      "include_colab_link": true
    },
    "kernelspec": {
      "name": "python3",
      "display_name": "Python 3"
    },
    "language_info": {
      "name": "python"
    }
  },
  "cells": [
    {
      "cell_type": "markdown",
      "metadata": {
        "id": "view-in-github",
        "colab_type": "text"
      },
      "source": [
        "<a href=\"https://colab.research.google.com/github/IamLucifer0312/Funiture-Recognition-CNN/blob/main/TestExtractFile.ipynb\" target=\"_parent\"><img src=\"https://colab.research.google.com/assets/colab-badge.svg\" alt=\"Open In Colab\"/></a>"
      ]
    },
    {
      "cell_type": "code",
      "execution_count": 1,
      "metadata": {
        "colab": {
          "base_uri": "https://localhost:8080/"
        },
        "id": "zg8wTf_7X8LL",
        "outputId": "51dd7eb0-2c0f-4be5-d291-fb7df23370e3"
      },
      "outputs": [
        {
          "output_type": "stream",
          "name": "stdout",
          "text": [
            "Mounted at /content/drive\n"
          ]
        }
      ],
      "source": [
        "from google.colab import drive\n",
        "drive.mount('/content/drive')\n"
      ]
    },
    {
      "cell_type": "code",
      "source": [
        "import gdown\n",
        "\n",
        "# Google Drive file ID (from the shared link)\n",
        "file_id = \"1h2SIWZZUESO6xygzF4iMkK-tVc4mZ27M\"\n",
        "file_name = \"Furniture_Data.zip\"\n",
        "file_path = \"/content/\" + file_name\n",
        "\n",
        "# Download the file\n",
        "gdown.download(f\"https://drive.google.com/uc?id={file_id}\", file_name, quiet=False)\n",
        "print(f\"Downloaded: {file_path}\")\n"
      ],
      "metadata": {
        "colab": {
          "base_uri": "https://localhost:8080/"
        },
        "id": "kXp0HliJYBAF",
        "outputId": "ca5285f3-ccea-44a6-c963-2d85aa20fec4"
      },
      "execution_count": 2,
      "outputs": [
        {
          "output_type": "stream",
          "name": "stderr",
          "text": [
            "Downloading...\n",
            "From (original): https://drive.google.com/uc?id=1h2SIWZZUESO6xygzF4iMkK-tVc4mZ27M\n",
            "From (redirected): https://drive.google.com/uc?id=1h2SIWZZUESO6xygzF4iMkK-tVc4mZ27M&confirm=t&uuid=8fc1dfb1-301c-4e7e-bff7-d0204f123a48\n",
            "To: /content/Furniture_Data.zip\n",
            "100%|██████████| 2.49G/2.49G [00:30<00:00, 80.5MB/s]"
          ]
        },
        {
          "output_type": "stream",
          "name": "stdout",
          "text": [
            "Downloaded: /content/Furniture_Data.zip\n"
          ]
        },
        {
          "output_type": "stream",
          "name": "stderr",
          "text": [
            "\n"
          ]
        }
      ]
    },
    {
      "cell_type": "code",
      "source": [
        "!unzip -q $file_path -d /content/extracted_folder\n"
      ],
      "metadata": {
        "id": "FZ4hcJiZYGwY"
      },
      "execution_count": 8,
      "outputs": []
    },
    {
      "cell_type": "code",
      "source": [
        "!du -sh /content/extracted_folder/Furniture_Data/\n"
      ],
      "metadata": {
        "colab": {
          "base_uri": "https://localhost:8080/"
        },
        "id": "0LoumrpKbGQ6",
        "outputId": "994674cf-bbc9-41f6-8d2b-1f81f4376522"
      },
      "execution_count": 9,
      "outputs": [
        {
          "output_type": "stream",
          "name": "stdout",
          "text": [
            "2.5G\t/content/extracted_folder/Furniture_Data/\n"
          ]
        }
      ]
    }
  ]
}