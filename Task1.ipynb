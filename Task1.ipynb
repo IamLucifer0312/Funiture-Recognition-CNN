{
 "cells": [
  {
   "metadata": {
    "ExecuteTime": {
     "end_time": "2024-04-28T19:53:41.778248Z",
     "start_time": "2024-04-28T19:53:41.768702Z"
    }
   },
   "cell_type": "code",
   "source": [
    "import os\n",
    "# Please run \"pip install split-folders\" in Pycharm's terminal first\n",
    "import splitfolders"
   ],
   "id": "f4b551d3739d1683",
   "outputs": [],
   "execution_count": 9
  },
  {
   "metadata": {
    "ExecuteTime": {
     "end_time": "2024-04-28T19:53:42.655097Z",
     "start_time": "2024-04-28T19:53:42.644543Z"
    }
   },
   "cell_type": "code",
   "source": [
    "# Define input and output folders\n",
    "input_folder = 'Furniture_Data'\n",
    "output_folder = 'Splited_Data'"
   ],
   "id": "62d1d51aaf5f715a",
   "outputs": [],
   "execution_count": 10
  },
  {
   "metadata": {
    "ExecuteTime": {
     "end_time": "2024-04-28T20:05:41.691151Z",
     "start_time": "2024-04-28T19:53:43.291559Z"
    }
   },
   "cell_type": "code",
   "source": [
    " # Iterate over the subfolders representing different classes\n",
    "for class_folder in os.listdir(input_folder):\n",
    "    class_path = os.path.join(input_folder, class_folder)\n",
    "    if os.path.isdir(class_path):\n",
    "        # Split each class folder into train, validation, and test sets\n",
    "        splitfolders.ratio(class_path, output=os.path.join(output_folder, class_folder), seed=42, ratio=(0.7, 0.15, 0.15), group_prefix=None)"
   ],
   "id": "54b184e09e948e72",
   "outputs": [
    {
     "name": "stderr",
     "output_type": "stream",
     "text": [
      "Copying files: 6578 files [00:59, 110.16 files/s]\n",
      "Copying files: 22053 files [03:46, 97.51 files/s] \n",
      "Copying files: 7871 files [01:16, 102.97 files/s]\n",
      "Copying files: 32401 files [03:35, 150.15 files/s]\n",
      "Copying files: 4080 files [00:26, 153.91 files/s]\n",
      "Copying files: 17100 files [01:53, 150.33 files/s]\n"
     ]
    }
   ],
   "execution_count": 11
  },
  {
   "metadata": {},
   "cell_type": "code",
   "outputs": [],
   "execution_count": null,
   "source": [
    "# Define constants\n",
    "# Except the image sizes and classes, all other should be modified \n",
    "IMAGE_SIZE = (350, 350)\n",
    "BATCH_SIZE = 32\n",
    "NUM_CLASSES = 6\n",
    "NUM_EPOCHS = 20"
   ],
   "id": "79b950eaa1809aa8"
  }
 ],
 "metadata": {
  "kernelspec": {
   "name": "python3",
   "language": "python",
   "display_name": "Python 3 (ipykernel)"
  }
 },
 "nbformat": 4,
 "nbformat_minor": 5
}
