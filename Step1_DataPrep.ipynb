{
 "cells": [
  {
   "metadata": {
    "ExecuteTime": {
     "end_time": "2024-04-29T20:24:34.046783Z",
     "start_time": "2024-04-29T20:24:30.027849Z"
    }
   },
   "cell_type": "code",
   "source": [
    "import os\n",
    "import shutil\n",
    "import random\n"
   ],
   "id": "f4b551d3739d1683",
   "outputs": [],
   "execution_count": 6
  },
  {
   "metadata": {
    "ExecuteTime": {
     "end_time": "2024-04-29T19:57:50.847956Z",
     "start_time": "2024-04-29T19:57:50.840830Z"
    }
   },
   "cell_type": "code",
   "source": [
    "def split_dataset(input_folder, output_folder, train_ratio, val_ratio, test_ratio):\n",
    "    # Create output folders\n",
    "    os.makedirs(output_folder, exist_ok=True)\n",
    "    os.makedirs(os.path.join(output_folder, 'train'), exist_ok=True)\n",
    "    os.makedirs(os.path.join(output_folder, 'val'), exist_ok=True)\n",
    "    os.makedirs(os.path.join(output_folder, 'test'), exist_ok=True)\n",
    "    \n",
    "    # Recursively traverse the directory structure\n",
    "    for root, dirs, files in os.walk(input_folder):\n",
    "        # Skip root directory\n",
    "        if root == input_folder:\n",
    "            continue\n",
    "        \n",
    "        # Determine the relative path from the input folder\n",
    "        relative_path = os.path.relpath(root, input_folder)\n",
    "        \n",
    "        # Determine the corresponding output folder based on the relative path\n",
    "        train_output_folder = os.path.join(output_folder, 'train', relative_path)\n",
    "        val_output_folder = os.path.join(output_folder, 'val', relative_path)\n",
    "        test_output_folder = os.path.join(output_folder, 'test', relative_path)\n",
    "        \n",
    "        # Create output folders if they don't exist\n",
    "        os.makedirs(train_output_folder, exist_ok=True)\n",
    "        os.makedirs(val_output_folder, exist_ok=True)\n",
    "        os.makedirs(test_output_folder, exist_ok=True)\n",
    "        \n",
    "        # Randomly shuffle files\n",
    "        random.shuffle(files)\n",
    "        \n",
    "        # Calculate split sizes\n",
    "        num_files = len(files)\n",
    "        num_train = int(train_ratio * num_files)\n",
    "        num_val = int(val_ratio * num_files)\n",
    "        num_test = int(test_ratio * num_files)\n",
    "        \n",
    "        # Assign files to splits\n",
    "        train_files = files[:num_train]\n",
    "        val_files = files[num_train:num_train+num_val]\n",
    "        test_files = files[num_train+num_val:]\n",
    "        \n",
    "        # Copy files to respective split folders\n",
    "        for filename in train_files:\n",
    "            src = os.path.join(root, filename)\n",
    "            dst = os.path.join(train_output_folder, filename)\n",
    "            shutil.copyfile(src, dst)\n",
    "            \n",
    "        for filename in val_files:\n",
    "            src = os.path.join(root, filename)\n",
    "            dst = os.path.join(val_output_folder, filename)\n",
    "            shutil.copyfile(src, dst)\n",
    "            \n",
    "        for filename in test_files:\n",
    "            src = os.path.join(root, filename)\n",
    "            dst = os.path.join(test_output_folder, filename)\n",
    "            shutil.copyfile(src, dst)"
   ],
   "id": "efed9f41f61b7902",
   "outputs": [],
   "execution_count": 2
  },
  {
   "metadata": {
    "ExecuteTime": {
     "end_time": "2024-04-29T19:57:52.423421Z",
     "start_time": "2024-04-29T19:57:52.419303Z"
    }
   },
   "cell_type": "code",
   "source": [
    "# Define input and output folders\n",
    "input_folder = 'Furniture_Data'\n",
    "output_folder = 'Splited_Data'"
   ],
   "id": "62d1d51aaf5f715a",
   "outputs": [],
   "execution_count": 3
  },
  {
   "metadata": {
    "ExecuteTime": {
     "end_time": "2024-04-29T20:11:13.505109Z",
     "start_time": "2024-04-29T20:03:37.140637Z"
    }
   },
   "cell_type": "code",
   "source": [
    "# Define split ratios\n",
    "train_ratio = 0.6\n",
    "val_ratio = 0.2\n",
    "test_ratio = 0.2\n",
    "\n",
    "# Split the dataset\n",
    "split_dataset(input_folder, output_folder, train_ratio, val_ratio, test_ratio)"
   ],
   "id": "544d71c48ce4ff80",
   "outputs": [],
   "execution_count": 5
  }
 ],
 "metadata": {
  "kernelspec": {
   "name": "python3",
   "language": "python",
   "display_name": "Python 3 (ipykernel)"
  }
 },
 "nbformat": 4,
 "nbformat_minor": 5
}
