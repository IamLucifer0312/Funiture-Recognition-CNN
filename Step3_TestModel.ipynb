{
 "cells": [
  {
   "metadata": {
    "ExecuteTime": {
     "end_time": "2024-04-30T07:31:26.003531Z",
     "start_time": "2024-04-30T07:31:25.192493Z"
    }
   },
   "cell_type": "code",
   "source": [
    "import tensorflow as tf\n",
    "\n",
    "# Load the saved model\n",
    "model = tf.keras.models.load_model(\"model/model.h5\")\n"
   ],
   "id": "23c95cd298e4620c",
   "outputs": [
    {
     "name": "stderr",
     "output_type": "stream",
     "text": [
      "WARNING:absl:Compiled the loaded model, but the compiled metrics have yet to be built. `model.compile_metrics` will be empty until you train or evaluate the model.\n"
     ]
    }
   ],
   "execution_count": 6
  },
  {
   "cell_type": "code",
   "id": "initial_id",
   "metadata": {
    "collapsed": true,
    "ExecuteTime": {
     "end_time": "2024-04-30T07:31:40.650928Z",
     "start_time": "2024-04-30T07:31:40.569153Z"
    }
   },
   "source": [
    "import numpy as np\n",
    "\n",
    "# Load the image\n",
    "img_path = 'Splited_Data/test/beds/Asian/7593asian-daybeds.jpg'\n",
    "# img_path = 'Splited_Data/test/sofas/Asian/3637asian-sofas.jpg'\n",
    "img = tf.keras.preprocessing.image.load_img(img_path, target_size=(350, 350))  \n",
    "img_array = tf.keras.preprocessing.image.img_to_array(img)\n",
    "img_array = np.expand_dims(img_array, axis=0)  # Add batch dimension\n",
    "\n",
    "# Preprocess the image (optional)\n",
    "# Depending on how your model was trained, you may need to perform additional preprocessing such as normalization\n",
    "# You can use the same preprocessing steps used during training\n",
    "img_array = img_array / 255.0  # Normalize pixel values to [0, 1]\n",
    "\n",
    "# Make predictions\n",
    "predictions = model.predict(img_array)\n",
    "predicted_class = np.argmax(predictions[0])  # Get the index of the highest probability\n",
    "\n",
    "# Interpret the results\n",
    "# Assuming you have a list of class labels\n",
    "class_labels = ['beds', 'chairs', 'dressers', 'lamps', 'sofas', 'tables']  # Replace with your actual class labels\n",
    "predicted_label = class_labels[predicted_class]\n",
    "\n",
    "print(\"Predicted class:\", predicted_label)\n",
    "print(\"Prediction probabilities:\", predictions[0])\n"
   ],
   "outputs": [
    {
     "name": "stdout",
     "output_type": "stream",
     "text": [
      "\u001B[1m1/1\u001B[0m \u001B[32m━━━━━━━━━━━━━━━━━━━━\u001B[0m\u001B[37m\u001B[0m \u001B[1m0s\u001B[0m 34ms/step\n",
      "Predicted class: beds\n",
      "Prediction probabilities: [9.9997056e-01 5.8514456e-07 1.4478690e-05 1.4331981e-11 1.5649293e-08\n",
      " 1.4404017e-05]\n"
     ]
    }
   ],
   "execution_count": 8
  },
  {
   "metadata": {},
   "cell_type": "code",
   "outputs": [],
   "execution_count": null,
   "source": "",
   "id": "8b1b2c24e4668879"
  }
 ],
 "metadata": {
  "kernelspec": {
   "display_name": "Python 3",
   "language": "python",
   "name": "python3"
  },
  "language_info": {
   "codemirror_mode": {
    "name": "ipython",
    "version": 2
   },
   "file_extension": ".py",
   "mimetype": "text/x-python",
   "name": "python",
   "nbconvert_exporter": "python",
   "pygments_lexer": "ipython2",
   "version": "2.7.6"
  }
 },
 "nbformat": 4,
 "nbformat_minor": 5
}
